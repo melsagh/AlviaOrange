{
 "cells": [
  {
   "cell_type": "markdown",
   "metadata": {},
   "source": [
    "# Fire History Test Notebook\n",
    "\n",
    "Demonstrates fetch_fire_history and plotting with Plotly."
   ]
  },
  {
   "cell_type": "code",
   "execution_count": null,
   "metadata": {},
   "outputs": [],
   "source": [
    "from alviaorange import fetch_fire_history\n",
    "import plotly.express as px\n",
    "\n",
    "data = fetch_fire_history('ON', '2024-01-01', '2024-01-10')\n",
    "features = data.get('features', []) if isinstance(data, dict) else data\n",
    "fig = px.bar(x=['count'], y=[len(features)],\n",
    "             labels={'x': 'Dataset', 'y': 'Count'},\n",
    "             title='Fire History Record Count')\n",
    "fig.show()"
   ]
  }
 ],
 "metadata": {
  "kernelspec": {
   "display_name": "Python 3",
   "language": "python",
   "name": "python3"
  },
  "language_info": {
   "name": "python",
   "version": "3.10"
  }
 },
 "nbformat": 4,
 "nbformat_minor": 5
}
