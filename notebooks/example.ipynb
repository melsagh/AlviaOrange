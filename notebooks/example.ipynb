{
 "cells": [
  {
   "cell_type": "markdown",
   "metadata": {},
   "source": [
    "# AlviaOrange Example Notebook\n",
    "\n",
    "This notebook demonstrates how to use `fetch_hotspots` from the `alviaorange` package."
   ]
  },
  {
   "cell_type": "code",
   "execution_count": 1,
   "id": "1d177421",
   "metadata": {},
   "outputs": [],
   "source": [
    "import sys\n",
    "from pathlib import Path\n",
    "\n",
    "# assuming your notebook lives in ROOT/notebooks/\n",
    "project_root = Path().cwd().parent     # go up one folder from notebooks/\n",
    "sys.path.insert(0, str(project_root))  # put it at the front of sys.path"
   ]
  },
  {
   "cell_type": "code",
   "execution_count": 2,
   "metadata": {},
   "outputs": [
    {
     "data": {
      "text/plain": [
       "['AB-001', 'BC-123']"
      ]
     },
     "execution_count": 2,
     "metadata": {},
     "output_type": "execute_result"
    }
   ],
   "source": [
    "from alviaorange import fetch_hotspots\n",
    "fetch_hotspots()"
   ]
  }
 ],
 "metadata": {
  "kernelspec": {
   "display_name": ".venv",
   "language": "python",
   "name": "python3"
  },
  "language_info": {
   "codemirror_mode": {
    "name": "ipython",
    "version": 3
   },
   "file_extension": ".py",
   "mimetype": "text/x-python",
   "name": "python",
   "nbconvert_exporter": "python",
   "pygments_lexer": "ipython3",
   "version": "3.10.0"
  }
 },
 "nbformat": 4,
 "nbformat_minor": 5
}
