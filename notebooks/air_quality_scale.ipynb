{
 "cells": [
  {
   "cell_type": "markdown",
   "metadata": {},
   "source": [
    "# AQHI Scale Test Notebook\n",
    "\n",
    "Demonstrates fetching the AQHI scale and plotting with Plotly."
   ]
  },
  {
   "cell_type": "code",
   "execution_count": null,
   "metadata": {},
   "outputs": [],
   "source": [
    "from alviaorange import fetch_aqi_scale\n",
    "import plotly.express as px\n",
    "\n",
    "scale = fetch_aqi_scale()\n",
    "indices = list(scale.keys())[:10]\n",
    "bands = [scale[i]['band'] for i in indices]\n",
    "fig = px.bar(x=indices, y=[1]*len(indices), color=bands,\n",
    "             labels={'x': 'AQHI', 'y': 'Risk Band'},\n",
    "             title='AQHI Scale')\n",
    "fig.update_yaxes(showticklabels=False)\n",
    "fig.show()"
   ]
  }
 ],
 "metadata": {
  "kernelspec": {
   "display_name": "Python 3",
   "language": "python",
   "name": "python3"
  },
  "language_info": {
   "name": "python",
   "version": "3.10"
  }
 },
 "nbformat": 4,
 "nbformat_minor": 5
}
