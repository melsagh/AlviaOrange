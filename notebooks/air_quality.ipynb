{
 "cells": [
  {
   "cell_type": "markdown",
   "metadata": {},
   "source": [
    "# Air Quality Test Notebook",
    "\n",
    "Demonstrates fetching air quality data and plotting with Plotly."
   ]
  },
  {
   "cell_type": "code",
   "execution_count": null,
   "metadata": {},
   "outputs": [],
   "source": [
    "from alviaorange import fetch_air_quality, fetch_air_quality_history\n",
    "import plotly.express as px\n",
    "\n",
    "data = fetch_air_quality()\n",
    "cities = list(data.keys())[:10]\n",
    "values = [int(data[c]) for c in cities]\n",
    "fig = px.bar(x=cities, y=values, labels={'x': 'City', 'y': 'AQHI'}, title='Current Air Quality')\n",
    "fig.show()"
   ]
  },
  {
   "cell_type": "code",
   "execution_count": null,
   "metadata": {},
   "outputs": [],
   "source": [
    "history = fetch_air_quality_history('Toronto', '2024-01-01', '2024-01-02')\n",
    "fig = px.line(history, x='datetime', y='value', title='Toronto AQHI History')\n",
    "fig.show()"
   ]
  }
 ],
 "metadata": {
  "kernelspec": {
   "display_name": "Python 3",
   "language": "python",
   "name": "python3"
  },
  "language_info": {
   "name": "python",
   "version": "3.10"
  }
 },
 "nbformat": 4,
 "nbformat_minor": 5
}
