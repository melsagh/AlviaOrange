{
 "cells": [
  {
   "cell_type": "markdown",
   "metadata": {},
   "source": [
    "# Hotspots Test Notebook",
    "\n",
    "Visualize hotspot identifiers returned by `fetch_hotspots`."
   ]
  },
  {
   "cell_type": "code",
   "execution_count": null,
   "metadata": {},
   "outputs": [],
   "source": [
    "from alviaorange import fetch_hotspots\n",
    "import plotly.express as px\n",
    "\n",
    "hotspots = fetch_hotspots()\n",
    "fig = px.bar(x=list(range(len(hotspots))), y=[1]*len(hotspots), text=hotspots, labels={'x': 'Index', 'y': 'Count'}, title='Hotspots')\n",
    "fig.update_traces(textposition='outside')\n",
    "fig.update_yaxes(showticklabels=False)\n",
    "fig.show()"
   ]
  }
 ],
 "metadata": {
  "kernelspec": {
   "display_name": "Python 3",
   "language": "python",
   "name": "python3"
  },
  "language_info": {
   "name": "python",
   "version": "3.10"
  }
 },
 "nbformat": 4,
 "nbformat_minor": 5
}
