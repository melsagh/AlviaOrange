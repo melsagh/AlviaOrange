{
 "cells": [
  {
   "cell_type": "raw",
   "metadata": {
    "vscode": {
     "languageId": "raw"
    }
   },
   "source": [
    "# AlviaOrange SDK: Data Scientist Workflow\n",
    "\n",
    "This notebook demonstrates the enhanced workflow for data scientists using the `alviaorange` Python library.\n",
    "\n",
    "The library now provides comprehensive wildfire detection, risk assessment, and analysis capabilities with validated data schemas and professional-grade error handling.\n"
   ]
  },
  {
   "cell_type": "raw",
   "metadata": {
    "vscode": {
     "languageId": "raw"
    }
   },
   "source": [
    "### 1. Import necessary libraries\n",
    "\n",
    "We import our enhanced Pydantic schemas, core functions, and standard data science libraries.\n"
   ]
  },
  {
   "cell_type": "code",
   "execution_count": 1,
   "metadata": {},
   "outputs": [
    {
     "ename": "ModuleNotFoundError",
     "evalue": "No module named 'matplotlib'",
     "output_type": "error",
     "traceback": [
      "\u001b[1;31m---------------------------------------------------------------------------\u001b[0m",
      "\u001b[1;31mModuleNotFoundError\u001b[0m                       Traceback (most recent call last)",
      "Cell \u001b[1;32mIn[1], line 11\u001b[0m\n\u001b[0;32m      8\u001b[0m     sys\u001b[38;5;241m.\u001b[39mpath\u001b[38;5;241m.\u001b[39minsert(\u001b[38;5;241m0\u001b[39m, project_root)\n\u001b[0;32m     10\u001b[0m \u001b[38;5;28;01mimport\u001b[39;00m\u001b[38;5;250m \u001b[39m\u001b[38;5;21;01mpandas\u001b[39;00m\u001b[38;5;250m \u001b[39m\u001b[38;5;28;01mas\u001b[39;00m\u001b[38;5;250m \u001b[39m\u001b[38;5;21;01mpd\u001b[39;00m\n\u001b[1;32m---> 11\u001b[0m \u001b[38;5;28;01mimport\u001b[39;00m\u001b[38;5;250m \u001b[39m\u001b[38;5;21;01mmatplotlib\u001b[39;00m\u001b[38;5;21;01m.\u001b[39;00m\u001b[38;5;21;01mpyplot\u001b[39;00m\u001b[38;5;250m \u001b[39m\u001b[38;5;28;01mas\u001b[39;00m\u001b[38;5;250m \u001b[39m\u001b[38;5;21;01mplt\u001b[39;00m\n\u001b[0;32m     12\u001b[0m \u001b[38;5;28;01mimport\u001b[39;00m\u001b[38;5;250m \u001b[39m\u001b[38;5;21;01mseaborn\u001b[39;00m\u001b[38;5;250m \u001b[39m\u001b[38;5;28;01mas\u001b[39;00m\u001b[38;5;250m \u001b[39m\u001b[38;5;21;01msns\u001b[39;00m\n\u001b[0;32m     13\u001b[0m \u001b[38;5;28;01mimport\u001b[39;00m\u001b[38;5;250m \u001b[39m\u001b[38;5;21;01mnumpy\u001b[39;00m\u001b[38;5;250m \u001b[39m\u001b[38;5;28;01mas\u001b[39;00m\u001b[38;5;250m \u001b[39m\u001b[38;5;21;01mnp\u001b[39;00m\n",
      "\u001b[1;31mModuleNotFoundError\u001b[0m: No module named 'matplotlib'"
     ]
    }
   ],
   "source": [
    "import sys\n",
    "import os\n",
    "from datetime import datetime, timedelta\n",
    "\n",
    "# Add the project root to the Python path to allow importing the library\n",
    "project_root = os.path.abspath(os.path.join(os.getcwd(), '..'))\n",
    "if project_root not in sys.path:\n",
    "    sys.path.insert(0, project_root)\n",
    "\n",
    "import pandas as pd\n",
    "import matplotlib.pyplot as plt\n",
    "import seaborn as sns\n",
    "import numpy as np\n",
    "\n",
    "# Import AlviaOrange schemas and functions\n",
    "from alviaorange.schemas import (\n",
    "    Hotspot, HotspotSource, ZoneBounds, \n",
    "    WeatherData, VegetationData, RiskAssessment\n",
    ")\n",
    "from alviaorange.hotspots import detect_hotspots_for_zone, get_active_hotspots\n",
    "from alviaorange.risk_assessment import calculate_fire_risk_score\n",
    "\n",
    "# Set up plotting style\n",
    "plt.style.use('seaborn-v0_8-whitegrid')\n",
    "sns.set_palette(\"husl\")\n"
   ]
  },
  {
   "cell_type": "raw",
   "metadata": {
    "vscode": {
     "languageId": "raw"
    }
   },
   "source": [
    "### 2. Hotspot Detection Example\n",
    "\n",
    "Let's demonstrate how to detect hotspots in a specific geographical zone using the enhanced API.\n"
   ]
  },
  {
   "cell_type": "code",
   "execution_count": null,
   "metadata": {},
   "outputs": [],
   "source": [
    "# Define a zone in British Columbia, Canada (high fire risk area)\n",
    "bc_zone_bounds = {\n",
    "    'north': 50.0,\n",
    "    'south': 49.0,\n",
    "    'east': -120.0,\n",
    "    'west': -121.0\n",
    "}\n",
    "\n",
    "# Define time range for the last 24 hours\n",
    "end_time = datetime.now()\n",
    "start_time = end_time - timedelta(hours=24)\n",
    "\n",
    "time_range = {\n",
    "    'start_date': start_time.isoformat() + 'Z',\n",
    "    'end_date': end_time.isoformat() + 'Z'\n",
    "}\n",
    "\n",
    "print(f\"Detecting hotspots in zone: {bc_zone_bounds}\")\n",
    "print(f\"Time range: {start_time.strftime('%Y-%m-%d %H:%M')} to {end_time.strftime('%Y-%m-%d %H:%M')}\")\n",
    "\n",
    "# Detect hotspots\n",
    "try:\n",
    "    hotspot_result = detect_hotspots_for_zone(\n",
    "        zone_bounds=bc_zone_bounds,\n",
    "        time_range=time_range,\n",
    "        sources=[\"VIIRS\", \"MODIS\"],\n",
    "        min_confidence=70\n",
    "    )\n",
    "    \n",
    "    print(f\"\\nHotspot detection successful!\")\n",
    "    print(f\"Total hotspots found: {hotspot_result['total_count']}\")\n",
    "    print(f\"Query completed at: {hotspot_result['query_time']}\")\n",
    "    \n",
    "except Exception as e:\n",
    "    print(f\"Hotspot detection failed: {e}\")\n",
    "    hotspot_result = {'hotspots': [], 'total_count': 0}\n"
   ]
  }
 ],
 "metadata": {
  "kernelspec": {
   "display_name": ".venv",
   "language": "python",
   "name": "python3"
  },
  "language_info": {
   "codemirror_mode": {
    "name": "ipython",
    "version": 3
   },
   "file_extension": ".py",
   "mimetype": "text/x-python",
   "name": "python",
   "nbconvert_exporter": "python",
   "pygments_lexer": "ipython3",
   "version": "3.10.0"
  }
 },
 "nbformat": 4,
 "nbformat_minor": 2
}
