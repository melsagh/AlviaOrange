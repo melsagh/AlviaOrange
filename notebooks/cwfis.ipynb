{
 "cells": [
  {
   "cell_type": "markdown",
   "metadata": {},
   "source": [
    "# CWFIS Test Notebook",
    "\n",
    "Demonstrates using the Canadian Wildland Fire Information System API with Plotly."
   ]
  },
  {
   "cell_type": "code",
   "execution_count": null,
   "metadata": {},
   "outputs": [],
   "source": [
    "from alviaorange import fetch_fire_weather_index\n",
    "import plotly.express as px\n",
    "\n",
    "data = fetch_fire_weather_index('2024-01-01')\n",
    "features = data.get('features', [])\n",
    "values = [f['properties'].get('FWI') for f in features if 'properties' in f] \n",
    "fig = px.histogram(values, nbins=20, title='Fire Weather Index distribution')\n",
    "fig.show()"
   ]
  }
 ],
 "metadata": {
  "kernelspec": {
   "display_name": "Python 3",
   "language": "python",
   "name": "python3"
  },
  "language_info": {
   "name": "python",
   "version": "3.10"
  }
 },
 "nbformat": 4,
 "nbformat_minor": 5
}
